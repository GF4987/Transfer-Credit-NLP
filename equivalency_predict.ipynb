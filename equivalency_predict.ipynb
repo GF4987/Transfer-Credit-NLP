{
 "cells": [
  {
   "cell_type": "markdown",
   "metadata": {},
   "source": [
    "Project Overview: Build an ML system that predicts where courses from different universities are eligible for transfer credit using NLP and classification algorithms."
   ]
  },
  {
   "cell_type": "code",
   "execution_count": 71,
   "metadata": {},
   "outputs": [],
   "source": [
    "'''Core Environment Setup'''\n",
    "import pandas as pd\n",
    "import numpy as np\n",
    "import matplotlib.pyplot as plt\n",
    "import seaborn as sb\n",
    "import warnings\n",
    "import os\n",
    "warnings.filterwarnings('ignore')"
   ]
  },
  {
   "cell_type": "code",
   "execution_count": 72,
   "metadata": {},
   "outputs": [],
   "source": [
    "'''Data Collection Environment Setup'''\n",
    "import requests\n",
    "from bs4 import BeautifulSoup\n",
    "import time\n",
    "import re\n",
    "import json\n",
    "from urllib.parse import urljoin, urlparse"
   ]
  },
  {
   "cell_type": "code",
   "execution_count": 73,
   "metadata": {},
   "outputs": [],
   "source": [
    "'''NLP Environment Setup'''\n",
    "from sklearn.model_selection import train_test_split, cross_val_score, GridSearchCV\n",
    "from sklearn.feature_extraction.text import TfidfVectorizer, CountVectorizer\n",
    "from sklearn.linear_model import LogisticRegression\n",
    "from sklearn.ensemble import RandomForestClassifier\n",
    "from sklearn.svm import SVC\n",
    "from sklearn.naive_bayes import MultinomialNB\n",
    "from sklearn.metrics import classification_report, confusion_matrix, roc_auc_score\n",
    "from sklearn.preprocessing import StandardScaler\n",
    "import nltk\n",
    "import spacy"
   ]
  },
  {
   "cell_type": "code",
   "execution_count": 74,
   "metadata": {},
   "outputs": [],
   "source": [
    "'''Deep Learning Environment Setup'''\n",
    "from transformers import AutoTokenizer, AutoModel\n",
    "import torch"
   ]
  },
  {
   "cell_type": "code",
   "execution_count": 75,
   "metadata": {},
   "outputs": [],
   "source": [
    "'''Plotting'''\n",
    "plt.style.use('seaborn-v0_8')\n",
    "sb.set_palette(\"husl\")"
   ]
  },
  {
   "cell_type": "markdown",
   "metadata": {},
   "source": [
    "Project Configuration can now be completed."
   ]
  },
  {
   "cell_type": "code",
   "execution_count": 77,
   "metadata": {},
   "outputs": [],
   "source": [
    "'''Project Config'''\n",
    "CONFIG = {\n",
    "    'data_dir':'data/',\n",
    "    'output_dir':'outputs/',\n",
    "    'models_dir':'models/',\n",
    "    'random_seed':42,\n",
    "    'target_unis':['Purdue University', 'Cal', 'UMich', 'Georgia Tech', 'UIUC'],\n",
    "    'target_departs':['CS', 'ECE', 'MATH', 'PHYS', 'ENGR'],\n",
    "    'max_courses_per_dept':200,\n",
    "    'min_descript_length':20\n",
    "}"
   ]
  },
  {
   "cell_type": "code",
   "execution_count": 78,
   "metadata": {},
   "outputs": [],
   "source": [
    "'''Project Directory Creation'''\n",
    "for dir_name in [CONFIG['data_dir'], CONFIG['output_dir'], CONFIG['models_dir']]:\n",
    "    os.makedirs(dir_name, exist_ok=True)"
   ]
  },
  {
   "cell_type": "code",
   "execution_count": 79,
   "metadata": {},
   "outputs": [
    {
     "data": {
      "text/plain": [
       "<torch._C.Generator at 0x32ff6f3d0>"
      ]
     },
     "execution_count": 79,
     "metadata": {},
     "output_type": "execute_result"
    }
   ],
   "source": [
    "'''Random Seed'''\n",
    "np.random.seed(CONFIG['random_seed'])\n",
    "torch.manual_seed(CONFIG['random_seed'])"
   ]
  },
  {
   "cell_type": "code",
   "execution_count": 80,
   "metadata": {},
   "outputs": [
    {
     "name": "stdout",
     "output_type": "stream",
     "text": [
      "Target Universities: ['Purdue University', 'Cal', 'UMich', 'Georgia Tech', 'UIUC']\n",
      "Target Departments: ['CS', 'ECE', 'MATH', 'PHYS', 'ENGR']\n"
     ]
    }
   ],
   "source": [
    "print(f\"Target Universities: {CONFIG['target_unis']}\")\n",
    "print(f\"Target Departments: {CONFIG['target_departs']}\")"
   ]
  },
  {
   "cell_type": "markdown",
   "metadata": {},
   "source": [
    "Course Catalog Scraper Class"
   ]
  },
  {
   "cell_type": "code",
   "execution_count": 83,
   "metadata": {},
   "outputs": [],
   "source": [
    "PURDUE_NAVOID = {\n",
    "    'CS': 2928,\n",
    "    'ECE': 2930,\n",
    "    'MA': 2935,\n",
    "    'PHYS': 2938,\n",
    "    'ENGR': 2942\n",
    "}\n",
    "\n",
    "BERKELEY_DEPTS = ['COMPSCI', 'EECS', 'MATH', 'PHYSICS']\n",
    "\n",
    "class CourseCatalogScraper:\n",
    "    def __init__(self, delay=1.0):\n",
    "        self.session = requests.Session()\n",
    "        self.session.headers.update({\n",
    "            'User-Agent': 'Mozilla/5.0 (Windows NT 10.0; Win64; x64) '\n",
    "                          'AppleWebKit/537.36 (KHTML, like Gecko) '\n",
    "                          'Chrome/116.0.0.0 Safari/537.36'\n",
    "        })\n",
    "        self.delay = delay\n",
    "\n",
    "    # Purdue Scraper\n",
    "    def scrape_purdue_courses(self, departments=['CS']):\n",
    "        all_courses = []\n",
    "        for dept in departments:\n",
    "            url = f\"https://catalog.purdue.edu/content.php?catoid=7&navoid={PURDUE_NAVOID[dept]}\"\n",
    "            print(f\"Scraping Purdue {dept} courses from {url}...\")\n",
    "            try:\n",
    "                response = self.session.get(url, timeout=10)\n",
    "                response.raise_for_status()\n",
    "                soup = BeautifulSoup(response.content, 'html.parser')\n",
    "\n",
    "                # Debug: print first 500 chars\n",
    "                # print(soup.prettify()[:500])\n",
    "\n",
    "                # Purdue courses: often in <h3> with title text, description in next <p>\n",
    "                course_blocks = soup.find_all(['h3', 'p'])\n",
    "                for i, block in enumerate(course_blocks):\n",
    "                    text = block.get_text(strip=True)\n",
    "                    # Look for pattern like \"CS 180 Problem Solving and OOP 4 credits\"\n",
    "                    match = re.match(r'([A-Z]+)\\s*(\\d+[A-Z]*)\\s+(.+?)\\s+(\\d+(?:\\.\\d+)?)\\s*(credits|units)?', text, re.IGNORECASE)\n",
    "                    if match:\n",
    "                        dept_code, number, title, credits, _ = match.groups()\n",
    "                        # Description: next sibling <p>\n",
    "                        description = \"\"\n",
    "                        if i + 1 < len(course_blocks):\n",
    "                            desc_candidate = course_blocks[i+1]\n",
    "                            description = desc_candidate.get_text(strip=True)\n",
    "                            if len(description) < CONFIG['min_description_length']:\n",
    "                                description = \"\"\n",
    "                        all_courses.append({\n",
    "                            'university': 'Purdue',\n",
    "                            'department': dept_code,\n",
    "                            'course_number': number,\n",
    "                            'course_code': f\"{dept_code} {number}\",\n",
    "                            'title': title.strip(),\n",
    "                            'credits': float(credits),\n",
    "                            'description': description,\n",
    "                            'prerequisites': \"\",\n",
    "                            'level': int(number[0]) if number[0].isdigit() else 0,\n",
    "                            'url': url\n",
    "                        })\n",
    "                    if len(all_courses) >= CONFIG['max_courses_per_dept']:\n",
    "                        break\n",
    "                time.sleep(self.delay)\n",
    "                print(f\"Found {len(all_courses)} courses for {dept}\")\n",
    "            except Exception as e:\n",
    "                print(f\"Error scraping Purdue {dept}: {e}\")\n",
    "        return pd.DataFrame(all_courses)\n",
    "\n",
    "    # Berkeley Scraper\n",
    "    def scrape_berkeley_courses(self, departments=BERKELEY_DEPTS):\n",
    "        all_courses = []\n",
    "        for dept in departments:\n",
    "            url = f\"https://guide.berkeley.edu/courses/{dept.lower()}/\"\n",
    "            print(f\"Scraping Berkeley {dept} courses from {url}...\")\n",
    "            try:\n",
    "                response = self.session.get(url, timeout=10)\n",
    "                response.raise_for_status()\n",
    "                soup = BeautifulSoup(response.content, 'html.parser')\n",
    "                course_blocks = soup.find_all('div', class_='courseblock')\n",
    "                for block in course_blocks[:CONFIG['max_courses_per_dept']]:\n",
    "                    # Course Title\n",
    "                    title_elem = block.find('p', class_='courseblocktitle')\n",
    "                    desc_elem = block.find('p', class_='courseblockdesc')\n",
    "                    if not title_elem:\n",
    "                        continue\n",
    "                    title_text = title_elem.get_text(strip=True)\n",
    "                    match = re.match(r'([A-Z]+)\\s*(\\d+[A-Z]*)\\s+(.+?)\\s+(\\d+(?:\\.\\d+)?)\\s+Units?', title_text)\n",
    "                    if not match:\n",
    "                        continue\n",
    "                    dept_code, number, title, credits = match.groups()\n",
    "                    description = desc_elem.get_text(strip=True) if desc_elem else \"\"\n",
    "                    if len(description) < CONFIG['min_description_length']:\n",
    "                        description = \"\"\n",
    "                    all_courses.append({\n",
    "                        'university': 'Berkeley',\n",
    "                        'department': 'CS' if dept_code == 'COMPSCI' else dept_code,\n",
    "                        'course_number': number,\n",
    "                        'course_code': f\"{dept_code} {number}\",\n",
    "                        'title': title.strip(),\n",
    "                        'credits': float(credits),\n",
    "                        'description': description,\n",
    "                        'prerequisites': \"\",\n",
    "                        'level': int(number[0]) if number[0].isdigit() else 0,\n",
    "                        'url': url\n",
    "                    })\n",
    "                time.sleep(self.delay)\n",
    "                print(f\"Found {len(all_courses)} courses for {dept}\")\n",
    "            except Exception as e:\n",
    "                print(f\"Error scraping Berkeley {dept}: {e}\")\n",
    "        return pd.DataFrame(all_courses)\n"
   ]
  },
  {
   "cell_type": "markdown",
   "metadata": {},
   "source": [
    "With the Course Scraper Class completed, data collection can now be executed."
   ]
  },
  {
   "cell_type": "code",
   "execution_count": 84,
   "metadata": {},
   "outputs": [
    {
     "name": "stdout",
     "output_type": "stream",
     "text": [
      "Starting data collection process....\n",
      "==================================================\n",
      "Scraping CS courses...\n",
      "Found 0 CS courses\n",
      "Scraping ECE courses...\n",
      "Found 0 ECE courses\n",
      "Scraping MA courses...\n",
      "Found 0 MA courses\n",
      "Scraping PHYS courses...\n",
      "Found 0 PHYS courses\n",
      "Scraping ENGR courses...\n",
      "Found 0 ENGR courses\n",
      "Total courses scraped: 0\n",
      "Purdue courses collected: 0\n",
      "Starting Berkeley course scraping....\n",
      "Scraping COMPSCI courses.....\n",
      "Found 0 COMPSCI courses\n",
      "Scraping EECS courses.....\n",
      "Found 0 EECS courses\n",
      "Scraping MATH courses.....\n",
      "Found 0 MATH courses\n",
      "Scraping PHYSICS courses.....\n",
      "Found 0 PHYSICS courses\n",
      "Berkeley course scraping complete: 0 total courses\n",
      "Berkeley courses colleced: 0\n",
      "Raw data saved as csv file: 0 total courses\n",
      "\n",
      " Sample course data.\n"
     ]
    },
    {
     "ename": "KeyError",
     "evalue": "\"None of [Index(['university', 'course_code', 'title', 'credits'], dtype='object')] are in the [columns]\"",
     "output_type": "error",
     "traceback": [
      "\u001b[0;31m---------------------------------------------------------------------------\u001b[0m",
      "\u001b[0;31mKeyError\u001b[0m                                  Traceback (most recent call last)",
      "Cell \u001b[0;32mIn[84], line 27\u001b[0m\n\u001b[1;32m     25\u001b[0m \u001b[38;5;66;03m#Display Sample\u001b[39;00m\n\u001b[1;32m     26\u001b[0m \u001b[38;5;28mprint\u001b[39m(\u001b[38;5;124m\"\u001b[39m\u001b[38;5;130;01m\\n\u001b[39;00m\u001b[38;5;124m Sample course data.\u001b[39m\u001b[38;5;124m\"\u001b[39m)\n\u001b[0;32m---> 27\u001b[0m \u001b[38;5;28mprint\u001b[39m(allCourses\u001b[38;5;241m.\u001b[39mhead()[[\u001b[38;5;124m'\u001b[39m\u001b[38;5;124muniversity\u001b[39m\u001b[38;5;124m'\u001b[39m, \u001b[38;5;124m'\u001b[39m\u001b[38;5;124mcourse_code\u001b[39m\u001b[38;5;124m'\u001b[39m, \u001b[38;5;124m'\u001b[39m\u001b[38;5;124mtitle\u001b[39m\u001b[38;5;124m'\u001b[39m, \u001b[38;5;124m'\u001b[39m\u001b[38;5;124mcredits\u001b[39m\u001b[38;5;124m'\u001b[39m]]\u001b[38;5;241m.\u001b[39mto_string())\n",
      "File \u001b[0;32m/opt/anaconda3/lib/python3.12/site-packages/pandas/core/frame.py:4108\u001b[0m, in \u001b[0;36mDataFrame.__getitem__\u001b[0;34m(self, key)\u001b[0m\n\u001b[1;32m   4106\u001b[0m     \u001b[38;5;28;01mif\u001b[39;00m is_iterator(key):\n\u001b[1;32m   4107\u001b[0m         key \u001b[38;5;241m=\u001b[39m \u001b[38;5;28mlist\u001b[39m(key)\n\u001b[0;32m-> 4108\u001b[0m     indexer \u001b[38;5;241m=\u001b[39m \u001b[38;5;28mself\u001b[39m\u001b[38;5;241m.\u001b[39mcolumns\u001b[38;5;241m.\u001b[39m_get_indexer_strict(key, \u001b[38;5;124m\"\u001b[39m\u001b[38;5;124mcolumns\u001b[39m\u001b[38;5;124m\"\u001b[39m)[\u001b[38;5;241m1\u001b[39m]\n\u001b[1;32m   4110\u001b[0m \u001b[38;5;66;03m# take() does not accept boolean indexers\u001b[39;00m\n\u001b[1;32m   4111\u001b[0m \u001b[38;5;28;01mif\u001b[39;00m \u001b[38;5;28mgetattr\u001b[39m(indexer, \u001b[38;5;124m\"\u001b[39m\u001b[38;5;124mdtype\u001b[39m\u001b[38;5;124m\"\u001b[39m, \u001b[38;5;28;01mNone\u001b[39;00m) \u001b[38;5;241m==\u001b[39m \u001b[38;5;28mbool\u001b[39m:\n",
      "File \u001b[0;32m/opt/anaconda3/lib/python3.12/site-packages/pandas/core/indexes/base.py:6200\u001b[0m, in \u001b[0;36mIndex._get_indexer_strict\u001b[0;34m(self, key, axis_name)\u001b[0m\n\u001b[1;32m   6197\u001b[0m \u001b[38;5;28;01melse\u001b[39;00m:\n\u001b[1;32m   6198\u001b[0m     keyarr, indexer, new_indexer \u001b[38;5;241m=\u001b[39m \u001b[38;5;28mself\u001b[39m\u001b[38;5;241m.\u001b[39m_reindex_non_unique(keyarr)\n\u001b[0;32m-> 6200\u001b[0m \u001b[38;5;28mself\u001b[39m\u001b[38;5;241m.\u001b[39m_raise_if_missing(keyarr, indexer, axis_name)\n\u001b[1;32m   6202\u001b[0m keyarr \u001b[38;5;241m=\u001b[39m \u001b[38;5;28mself\u001b[39m\u001b[38;5;241m.\u001b[39mtake(indexer)\n\u001b[1;32m   6203\u001b[0m \u001b[38;5;28;01mif\u001b[39;00m \u001b[38;5;28misinstance\u001b[39m(key, Index):\n\u001b[1;32m   6204\u001b[0m     \u001b[38;5;66;03m# GH 42790 - Preserve name from an Index\u001b[39;00m\n",
      "File \u001b[0;32m/opt/anaconda3/lib/python3.12/site-packages/pandas/core/indexes/base.py:6249\u001b[0m, in \u001b[0;36mIndex._raise_if_missing\u001b[0;34m(self, key, indexer, axis_name)\u001b[0m\n\u001b[1;32m   6247\u001b[0m \u001b[38;5;28;01mif\u001b[39;00m nmissing:\n\u001b[1;32m   6248\u001b[0m     \u001b[38;5;28;01mif\u001b[39;00m nmissing \u001b[38;5;241m==\u001b[39m \u001b[38;5;28mlen\u001b[39m(indexer):\n\u001b[0;32m-> 6249\u001b[0m         \u001b[38;5;28;01mraise\u001b[39;00m \u001b[38;5;167;01mKeyError\u001b[39;00m(\u001b[38;5;124mf\u001b[39m\u001b[38;5;124m\"\u001b[39m\u001b[38;5;124mNone of [\u001b[39m\u001b[38;5;132;01m{\u001b[39;00mkey\u001b[38;5;132;01m}\u001b[39;00m\u001b[38;5;124m] are in the [\u001b[39m\u001b[38;5;132;01m{\u001b[39;00maxis_name\u001b[38;5;132;01m}\u001b[39;00m\u001b[38;5;124m]\u001b[39m\u001b[38;5;124m\"\u001b[39m)\n\u001b[1;32m   6251\u001b[0m     not_found \u001b[38;5;241m=\u001b[39m \u001b[38;5;28mlist\u001b[39m(ensure_index(key)[missing_mask\u001b[38;5;241m.\u001b[39mnonzero()[\u001b[38;5;241m0\u001b[39m]]\u001b[38;5;241m.\u001b[39munique())\n\u001b[1;32m   6252\u001b[0m     \u001b[38;5;28;01mraise\u001b[39;00m \u001b[38;5;167;01mKeyError\u001b[39;00m(\u001b[38;5;124mf\u001b[39m\u001b[38;5;124m\"\u001b[39m\u001b[38;5;132;01m{\u001b[39;00mnot_found\u001b[38;5;132;01m}\u001b[39;00m\u001b[38;5;124m not in index\u001b[39m\u001b[38;5;124m\"\u001b[39m)\n",
      "\u001b[0;31mKeyError\u001b[0m: \"None of [Index(['university', 'course_code', 'title', 'credits'], dtype='object')] are in the [columns]\""
     ]
    }
   ],
   "source": [
    "# Initialize scraper\n",
    "scraper = CourseCatalogScraper()\n",
    "\n",
    "print(\"Starting data collection process....\")\n",
    "print(\"=\"*50)\n",
    "\n",
    "# 1️⃣ Scrape Purdue courses\n",
    "purdue_courses = scraper.scrape_purdue_courses(['CS', 'ECE', 'MA', 'PHYS', 'ENGR'])\n",
    "print(f\"Purdue courses collected: {len(purdue_courses)}\")\n",
    "\n",
    "# 2️⃣ Scrape Berkeley courses\n",
    "berkeley_courses = scraper.scrape_berkeley_courses(['COMPSCI', 'EECS', 'MATH', 'PHYSICS'])\n",
    "print(f\"Berkeley courses collected: {len(berkeley_courses)}\")\n",
    "\n",
    "# 3️⃣ Standardize columns for merging\n",
    "standard_columns = ['university', 'department', 'course_number', 'course_code',\n",
    "                    'title', 'credits', 'description', 'prerequisites', 'level', 'url']\n",
    "\n",
    "# Add missing columns if necessary\n",
    "for df in [purdue_courses, berkeley_courses]:\n",
    "    for col in standard_columns:\n",
    "        if col not in df.columns:\n",
    "            df[col] = None\n",
    "\n",
    "# 4️⃣ Merge datasets\n",
    "allCourses = pd.concat([purdue_courses[standard_columns], berkeley_courses[standard_columns]],\n",
    "                       ignore_index=True)\n",
    "\n",
    "# 5️⃣ Save raw data\n",
    "csv_path = f\"{CONFIG['data_dir']}raw_courses.csv\"\n",
    "allCourses.to_csv(csv_path, index=False)\n",
    "print(f\"Raw data saved as csv file: {csv_path} ({len(allCourses)} total courses)\")\n",
    "\n",
    "# 6️⃣ Display sample\n",
    "print(\"\\nSample course data:\")\n",
    "print(allCourses[['university', 'course_code', 'title', 'credits']].head().to_string())"
   ]
  }
 ],
 "metadata": {
  "kernelspec": {
   "display_name": "Python 3",
   "language": "python",
   "name": "python3"
  },
  "language_info": {
   "codemirror_mode": {
    "name": "ipython",
    "version": 3
   },
   "file_extension": ".py",
   "mimetype": "text/x-python",
   "name": "python",
   "nbconvert_exporter": "python",
   "pygments_lexer": "ipython3",
   "version": "3.12.7"
  }
 },
 "nbformat": 4,
 "nbformat_minor": 2
}
