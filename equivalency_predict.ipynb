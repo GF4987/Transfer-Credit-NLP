{
 "cells": [
  {
   "cell_type": "markdown",
   "metadata": {},
   "source": [
    "Project Overview: Build an ML system that predicts where courses from different universities are eligible for transfer credit using NLP and classification algorithms."
   ]
  },
  {
   "cell_type": "code",
   "execution_count": 7,
   "metadata": {},
   "outputs": [],
   "source": [
    "'''Core Environment Setup'''\n",
    "import pandas as pd\n",
    "import numpy as np\n",
    "import matplotlib.pyplot as plt\n",
    "import seaborn as sb\n",
    "import warnings\n",
    "import os\n",
    "warnings.filterwarnings('ignore')"
   ]
  },
  {
   "cell_type": "code",
   "execution_count": 8,
   "metadata": {},
   "outputs": [],
   "source": [
    "'''NLP Environment Setup'''\n",
    "from sklearn.model_selection import train_test_split, cross_val_score, GridSearchCV\n",
    "from sklearn.feature_extraction.text import TfidfVectorizer, CountVectorizer\n",
    "from sklearn.linear_model import LogisticRegression\n",
    "from sklearn.ensemble import RandomForestClassifier\n",
    "from sklearn.svm import SVC\n",
    "from sklearn.naive_bayes import MultinomialNB\n",
    "from sklearn.metrics import classification_report, confusion_matrix, roc_auc_score\n",
    "from sklearn.preprocessing import StandardScaler\n",
    "import nltk\n",
    "import spacy"
   ]
  },
  {
   "cell_type": "code",
   "execution_count": 9,
   "metadata": {},
   "outputs": [],
   "source": [
    "'''Deep Learning Environment Setup'''\n",
    "from transformers import AutoTokenizer, AutoModel\n",
    "import torch"
   ]
  },
  {
   "cell_type": "code",
   "execution_count": 10,
   "metadata": {},
   "outputs": [],
   "source": [
    "'''Plotting'''\n",
    "plt.style.use('seaborn-v0_8')\n",
    "sb.set_palette(\"husl\")"
   ]
  },
  {
   "cell_type": "code",
   "execution_count": 11,
   "metadata": {},
   "outputs": [
    {
     "name": "stderr",
     "output_type": "stream",
     "text": [
      "[nltk_data] Downloading package punkt to\n",
      "[nltk_data]     /Users/sarathivelmurugan/nltk_data...\n",
      "[nltk_data]   Package punkt is already up-to-date!\n",
      "[nltk_data] Downloading package stopwords to\n",
      "[nltk_data]     /Users/sarathivelmurugan/nltk_data...\n",
      "[nltk_data]   Package stopwords is already up-to-date!\n",
      "[nltk_data] Downloading package wordnet to\n",
      "[nltk_data]     /Users/sarathivelmurugan/nltk_data...\n",
      "[nltk_data]   Package wordnet is already up-to-date!\n"
     ]
    },
    {
     "data": {
      "text/plain": [
       "True"
      ]
     },
     "execution_count": 11,
     "metadata": {},
     "output_type": "execute_result"
    }
   ],
   "source": [
    "'''NLTK Data'''\n",
    "nltk.download('punkt')\n",
    "nltk.download('stopwords')\n",
    "nltk.download('wordnet')"
   ]
  },
  {
   "cell_type": "markdown",
   "metadata": {},
   "source": [
    "Project Configuration can now be completed. Data loading and exploration is the next step."
   ]
  },
  {
   "cell_type": "code",
   "execution_count": 19,
   "metadata": {},
   "outputs": [],
   "source": [
    "'''Data Loading'''\n",
    "def load_course_data():\n",
    "    try:\n",
    "        purdueCS_courses = pd.read_csv('Course_CSV_Files/Purdue_CS_Courses_CSV.csv')\n",
    "        berkeley_courses = pd.read_csv('Course_CSV_Files/UCB_Courses.csv')\n",
    "\n",
    "        print(f\"Purdue CS courses loaded: {len(purdueCS_courses)}\")\n",
    "        print(f\"Berkeley courses loaded: {len(berkeley_courses)}\")\n",
    "\n",
    "        return purdueCS_courses, berkeley_courses\n",
    "    \n",
    "    except FileNotFoundError:\n",
    "        print(\"CSV Files not found. Sample data will be created for demo.\")\n",
    "        return create_sample_data()\n",
    "    "
   ]
  },
  {
   "cell_type": "code",
   "execution_count": 25,
   "metadata": {},
   "outputs": [],
   "source": [
    "'''Sample Data Function'''\n",
    "\n",
    "def create_sample_data():\n",
    "#Sample Purdue Courses\n",
    "        purdue_samp = {'course_code': ['CS 180', 'CS 250', 'CS159'], \n",
    "               'title': ['Problem Solving and Object-Oriented Programming', \n",
    "                        'Computer Architecture',\n",
    "                        'C Programming (Applications for Engineers)'], \n",
    "                'description':['Intro to programming using Python',\n",
    "                               'Computer organization and architecture...',\n",
    "                               'Intro to programming using C'],\n",
    "                'credits':[4, 4, 3],\n",
    "                'department':['CS', 'CS', 'CS'],\n",
    "                'level':['Intro', 'Intermediate', 'Intro']\n",
    "        }\n",
    "\n",
    "        #Sample Berkeley Courses\n",
    "        berkeley_samp = { 'course_code':['CS 61A', 'CS 61C', 'CS 164', 'MATH 1A', 'PHYS 7A'],\n",
    "                'title': ['Structure and Interpretation of Computer Programs',\n",
    "                 'Machine Structures', \n",
    "                 'Programming Languages and Compilers',\n",
    "                 'Calculus',\n",
    "                 'Physics for Scientists and Engineers'],\n",
    "                'description': ['Introduction to programming and computer science...',\n",
    "                       'Machine structures, assembly language...',\n",
    "                       'Survey of programming languages, compilers...',\n",
    "                       'Differential and integral calculus...',\n",
    "                       'Mechanics, oscillations, waves...'],\n",
    "                'credits':[4, 4, 4, 4, 4],\n",
    "                'department':['CS', 'CS', 'CS', 'MATH', 'PHYS'],\n",
    "                'level':['Intro', 'Intermediate', 'Advanced', 'Intro', 'Intro']\n",
    "\n",
    "        }\n",
    "\n",
    "        return pd.DataFrame(berkeley_samp), pd.DataFrame(purdue_samp)"
   ]
  },
  {
   "cell_type": "code",
   "execution_count": 27,
   "metadata": {},
   "outputs": [
    {
     "name": "stdout",
     "output_type": "stream",
     "text": [
      "Purdue CS courses loaded: 1803\n",
      "Berkeley courses loaded: 11406\n",
      "Purdue CS courses loaded: 1803\n",
      "Berkeley courses loaded: 11406\n",
      "\n",
      "=== PURDUE COURSES PREVIEW ===\n"
     ]
    },
    {
     "data": {
      "text/plain": [
       "(                                        Id  Number  \\\n",
       " 0     97744585-87e3-4616-8a1f-bff2ab88471b    9200   \n",
       " 1     631d471f-f14b-47b1-a43f-1efae5ec584a    9300   \n",
       " 2     5237a73f-f2db-4130-8cc8-33f03a1bab55    9400   \n",
       " 3     1782c85f-49f5-4b08-ad99-62910a6794bd    9500   \n",
       " 4     5f26945a-ff4b-429a-8cb7-37cdba96e319   10100   \n",
       " ...                                    ...     ...   \n",
       " 1798  8840e6c2-6020-4eb8-8dd4-15bafaadfb24   69000   \n",
       " 1799  1b868766-2557-40b9-b224-61976374b9aa   69000   \n",
       " 1800  e02608d1-96d1-4516-85d8-f3343852e40c   69000   \n",
       " 1801  70f6cb0f-86e6-4ec4-893d-eb6d22698488   69800   \n",
       " 1802  a8e6c2bc-3887-435c-b43d-ec15dd477865   69900   \n",
       " \n",
       "                                  SubjectId                           Title  \\\n",
       " 0     86ad8a59-6ddc-4067-9f6b-169c8eec86a6        Professional Practice II   \n",
       " 1     86ad8a59-6ddc-4067-9f6b-169c8eec86a6       Professional Practice III   \n",
       " 2     86ad8a59-6ddc-4067-9f6b-169c8eec86a6        Professional Practice IV   \n",
       " 3     86ad8a59-6ddc-4067-9f6b-169c8eec86a6         Professional Practice V   \n",
       " 4     86ad8a59-6ddc-4067-9f6b-169c8eec86a6                Digital Literacy   \n",
       " ...                                    ...                             ...   \n",
       " 1798  86ad8a59-6ddc-4067-9f6b-169c8eec86a6       Software Trust Management   \n",
       " 1799  86ad8a59-6ddc-4067-9f6b-169c8eec86a6  Git Based Data Model For Nosql   \n",
       " 1800  86ad8a59-6ddc-4067-9f6b-169c8eec86a6                 Cryptography II   \n",
       " 1801  86ad8a59-6ddc-4067-9f6b-169c8eec86a6              Research MS Thesis   \n",
       " 1802  86ad8a59-6ddc-4067-9f6b-169c8eec86a6             Research PhD Thesis   \n",
       " \n",
       "       CreditHours Description  \n",
       " 0               0         NaN  \n",
       " 1               0         NaN  \n",
       " 2               0         NaN  \n",
       " 3               0         NaN  \n",
       " 4               3         NaN  \n",
       " ...           ...         ...  \n",
       " 1798            3         NaN  \n",
       " 1799            3         NaN  \n",
       " 1800            3         NaN  \n",
       " 1801            1         NaN  \n",
       " 1802            1         NaN  \n",
       " \n",
       " [1803 rows x 6 columns],\n",
       "        Subject Course Number           Department(s)  \\\n",
       " 0      AEROENG             1  Mechanical Engineering   \n",
       " 1      AEROENG            10  Mechanical Engineering   \n",
       " 2      AEROENG           100  Mechanical Engineering   \n",
       " 3      AEROENG           193  Mechanical Engineering   \n",
       " 4      AEROENG           196  Mechanical Engineering   \n",
       " ...        ...           ...                     ...   \n",
       " 11401  YIDDISH           103                  German   \n",
       " 11402  YIDDISH           104                  German   \n",
       " 11403  YIDDISH           105                  German   \n",
       " 11404  YIDDISH           106                  German   \n",
       " 11405  YIDDISH           107                  German   \n",
       " \n",
       "       Credits - Units - Minimum Units Credits - Units - Maximum Units  \\\n",
       " 0                                   1                               1   \n",
       " 1                                   4                               4   \n",
       " 2                                   4                               4   \n",
       " 3                                   1                               4   \n",
       " 4                                   2                               4   \n",
       " ...                               ...                             ...   \n",
       " 11401                               3                               3   \n",
       " 11402                               4                               4   \n",
       " 11403                               4                               4   \n",
       " 11404                               4                               4   \n",
       " 11405                               4                               4   \n",
       " \n",
       "       Terms Offered                                 Course Description  \\\n",
       " 0                 -  This is a freshman-level seminar course offere...   \n",
       " 1                 -  This course introduces mathematical engineerin...   \n",
       " 2                 -  This capstone course challenges students to in...   \n",
       " 3                 -  This course covers current topics of interest ...   \n",
       " 4                 -  Undergraduate students in good standing who ha...   \n",
       " ...             ...                                                ...   \n",
       " 11401             -  This course will trace the development of Yidd...   \n",
       " 11402             -  This course will trace the development of Yidd...   \n",
       " 11403             -  This course will trace the literary journey of...   \n",
       " 11404             -  This course will trace the history of Yiddish ...   \n",
       " 11405             -  Topics will vary from semester to semester. Se...   \n",
       " \n",
       "       Cross-Listed Course(s)  \\\n",
       " 0                          -   \n",
       " 1                          -   \n",
       " 2                          -   \n",
       " 3                          -   \n",
       " 4                          -   \n",
       " ...                      ...   \n",
       " 11401                      -   \n",
       " 11402                      -   \n",
       " 11403                      -   \n",
       " 11404                      -   \n",
       " 11405                      -   \n",
       " \n",
       "                                             Repeat Rules  \\\n",
       " 0                   Course is not repeatable for credit.   \n",
       " 1                   Course is not repeatable for credit.   \n",
       " 2                   Course is not repeatable for credit.   \n",
       " 3      Course may be repeated for credit when topic c...   \n",
       " 4      Course may be repeated for credit without rest...   \n",
       " ...                                                  ...   \n",
       " 11401  Course may be repeated for credit without rest...   \n",
       " 11402               Course is not repeatable for credit.   \n",
       " 11403               Course is not repeatable for credit.   \n",
       " 11404               Course is not repeatable for credit.   \n",
       " 11405  Course may be repeated for credit when topic c...   \n",
       " \n",
       "       Repeat Rule: Special Circumstances Offering Information  \\\n",
       " 0                                      -  Offered every fall.   \n",
       " 1                                      -                    -   \n",
       " 2                                      -                    -   \n",
       " 3                                      -                    -   \n",
       " 4                                      -                    -   \n",
       " ...                                  ...                  ...   \n",
       " 11401                                  -                    -   \n",
       " 11402                                  -                    -   \n",
       " 11403                                  -                    -   \n",
       " 11404                                  -                    -   \n",
       " 11405                                  -                    -   \n",
       " \n",
       "       Additional Offering Information  \n",
       " 0                                   -  \n",
       " 1                                   -  \n",
       " 2                                   -  \n",
       " 3                                   -  \n",
       " 4                                   -  \n",
       " ...                               ...  \n",
       " 11401                               -  \n",
       " 11402                               -  \n",
       " 11403                               -  \n",
       " 11404                               -  \n",
       " 11405                               -  \n",
       " \n",
       " [11406 rows x 12 columns])"
      ]
     },
     "metadata": {},
     "output_type": "display_data"
    }
   ],
   "source": [
    "'''Loading and Displaying Basic Info for Purdue'''\n",
    "purdue_df = load_course_data()\n",
    "berkeley_df = load_course_data()\n",
    "\n",
    "print(\"\\n=== PURDUE COURSES PREVIEW ===\")\n",
    "display(purdue_df)\n",
    "#print(f\"\\nShape: {purdue_df.shape}\")\n",
    "#print(f\"Columns: {list(purdue_df.columns)}\")\n"
   ]
  }
 ],
 "metadata": {
  "kernelspec": {
   "display_name": "Python 3",
   "language": "python",
   "name": "python3"
  },
  "language_info": {
   "codemirror_mode": {
    "name": "ipython",
    "version": 3
   },
   "file_extension": ".py",
   "mimetype": "text/x-python",
   "name": "python",
   "nbconvert_exporter": "python",
   "pygments_lexer": "ipython3",
   "version": "3.12.7"
  }
 },
 "nbformat": 4,
 "nbformat_minor": 2
}
