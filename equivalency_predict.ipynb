{
 "cells": [
  {
   "cell_type": "markdown",
   "metadata": {},
   "source": [
    "Project Overview: Build an ML system that predicts where courses from different universities are eligible for transfer credit using NLP and classification algorithms."
   ]
  },
  {
   "cell_type": "code",
   "execution_count": 13,
   "metadata": {},
   "outputs": [],
   "source": [
    "'''Core Environment Setup'''\n",
    "import pandas as pd\n",
    "import numpy as np\n",
    "import matplotlib.pyplot as plt\n",
    "import seaborn as sb\n",
    "import warnings\n",
    "import os\n",
    "warnings.filterwarnings('ignore')"
   ]
  },
  {
   "cell_type": "code",
   "execution_count": 14,
   "metadata": {},
   "outputs": [],
   "source": [
    "'''Data Collection Environment Setup'''\n",
    "import requests\n",
    "from bs4 import BeautifulSoup\n",
    "import time\n",
    "import re\n",
    "import json\n",
    "from urllib.parse import urljoin, urlparse"
   ]
  },
  {
   "cell_type": "code",
   "execution_count": 15,
   "metadata": {},
   "outputs": [],
   "source": [
    "'''NLP Environment Setup'''\n",
    "from sklearn.model_selection import train_test_split, cross_val_score, GridSearchCV\n",
    "from sklearn.feature_extraction.text import TfidfVectorizer, CountVectorizer\n",
    "from sklearn.linear_model import LogisticRegression\n",
    "from sklearn.ensemble import RandomForestClassifier\n",
    "from sklearn.svm import SVC\n",
    "from sklearn.naive_bayes import MultinomialNB\n",
    "from sklearn.metrics import classification_report, confusion_matrix, roc_auc_score\n",
    "from sklearn.preprocessing import StandardScaler\n",
    "import nltk\n",
    "import spacy"
   ]
  },
  {
   "cell_type": "code",
   "execution_count": 16,
   "metadata": {},
   "outputs": [],
   "source": [
    "'''Deep Learning Environment Setup'''\n",
    "from transformers import AutoTokenizer, AutoModel\n",
    "import torch"
   ]
  },
  {
   "cell_type": "code",
   "execution_count": 17,
   "metadata": {},
   "outputs": [],
   "source": [
    "'''Plotting'''\n",
    "plt.style.use('seaborn-v0_8')\n",
    "sb.set_palette(\"husl\")"
   ]
  },
  {
   "cell_type": "markdown",
   "metadata": {},
   "source": [
    "Project Configuration can now be completed."
   ]
  },
  {
   "cell_type": "code",
   "execution_count": 18,
   "metadata": {},
   "outputs": [],
   "source": [
    "'''Project Config'''\n",
    "CONFIG = {\n",
    "    'data_dir':'data/',\n",
    "    'output_dir':'outputs/',\n",
    "    'models_dir':'models/',\n",
    "    'random_seed':42,\n",
    "    'target_unis':['Purdue University', 'Cal', 'UMich', 'Georgia Tech', 'UIUC'],\n",
    "    'target_departs':['CS', 'ECE', 'MATH', 'PHYS', 'ENGR'],\n",
    "    'max_courses_per_dept':200,\n",
    "    'min_descript_length':20\n",
    "}"
   ]
  },
  {
   "cell_type": "code",
   "execution_count": 21,
   "metadata": {},
   "outputs": [],
   "source": [
    "'''Project Directory Creation'''\n",
    "for dir_name in [CONFIG['data_dir'], CONFIG['output_dir'], CONFIG['models_dir']]:\n",
    "    os.makedirs(dir_name, exist_ok=True)"
   ]
  },
  {
   "cell_type": "code",
   "execution_count": 22,
   "metadata": {},
   "outputs": [
    {
     "data": {
      "text/plain": [
       "<torch._C.Generator at 0x32ff6f3d0>"
      ]
     },
     "execution_count": 22,
     "metadata": {},
     "output_type": "execute_result"
    }
   ],
   "source": [
    "'''Random Seed'''\n",
    "np.random.seed(CONFIG['random_seed'])\n",
    "torch.manual_seed(CONFIG['random_seed'])"
   ]
  },
  {
   "cell_type": "code",
   "execution_count": 23,
   "metadata": {},
   "outputs": [
    {
     "name": "stdout",
     "output_type": "stream",
     "text": [
      "Target Universities: ['Purdue University', 'Cal', 'UMich', 'Georgia Tech', 'UIUC']\n",
      "Target Departments: ['CS', 'ECE', 'MATH', 'PHYS', 'ENGR']\n"
     ]
    }
   ],
   "source": [
    "print(f\"Target Universities: {CONFIG['target_unis']}\")\n",
    "print(f\"Target Departments: {CONFIG['target_departs']}\")"
   ]
  },
  {
   "cell_type": "markdown",
   "metadata": {},
   "source": [
    "Course Catalog Scraper Class"
   ]
  },
  {
   "cell_type": "code",
   "execution_count": null,
   "metadata": {},
   "outputs": [],
   "source": [
    "'''Catalog Scraper Class'''\n",
    "class CourseCatalogScraper:\n",
    "\n",
    "    #Initialization Constructor for Web Scraping\n",
    "    def _init_(self, delay=1.0):\n",
    "        self.session = requests.Session()\n",
    "        self.session.headers.update({\n",
    "            'User-Agent': 'Mozilla/5.0 (Windows NT 10.0; Win64; x64) AppleWebKit/537.36(KHTML, like Gecko) Chrome/116.0.0.0 Safari/537.36'\n",
    "        })\n",
    "        self.delay = delay\n",
    "        self.courses_collected = []\n",
    "\n",
    "    #Purdue Scraper Method\n",
    "    def scrape_purdue_courses(self, departments=['CS', 'ECE', 'MA', 'PHYS', 'ENGR']):\n",
    "        print(\"Starting Purdue course scraping....\")\n",
    "        courses = []\n",
    "\n",
    "        for dept in departments:\n",
    "            print(f\"Scraping {dept} courses....\")\n",
    "\n",
    "            #Purdue Catalog Search URL\n",
    "            search_url = f\"https://catalog.purdue.edu/content.php?catoid=18&navoid=23635\"\n",
    "\n",
    "            try:\n",
    "                response = self.session.get(search_url, timeout=10)\n",
    "                response.raise_for_status()\n",
    "                soup = BeautifulSoup(response.content, 'html.parser')\n",
    "\n",
    "                #Course Block Finding\n",
    "                course_blocks = soup.find_all('div', class_='searchresult')\n",
    "\n",
    "                for block in course_blocks[:CONFIG['max_courses_per_dept']]:\n",
    "                    course_data = self._extract_purdue_course_info(block)\n",
    "                    if course_data:\n",
    "                        courses.append(course_data)\n",
    "\n",
    "                print(f\"Found {len([c for c in courses if c['department'] == dept])} {dept} courses\")\n",
    "                time.sleep(self.delay)\n",
    "\n",
    "            except:\n",
    "                print(f\"Error Scraping {dept}: {e}\")\n",
    "                continue\n",
    "\n",
    "        print(f\"Purdue Course Scraping Complete: {len(courses)} total courses\")\n",
    "\n",
    "        return pd.DataFrame(courses)\n",
    "    \n",
    "    #Extracting Information About Courses\n",
    "    def _extract_purdue_course_info(self, course_block):\n",
    "        try:\n",
    "            #Course Title and Code Extraction\n",
    "            title_elem = course_block.find('h2')\n",
    "            if not title_elem:\n",
    "                return None\n",
    "            \n",
    "            title_text = title_elem.get_text(strip=True)\n",
    "\n",
    "            #CS180 - Problem Solving and OOP (4 Credits)\n",
    "            match = re.match(r'([A-Z]+)\\s*(\\d+)\\s*-\\s*(.+?)\\s*\\((\\d+(?:\\.\\d+)?)\\s*credits?\\)', title_text)\n",
    "            if not match:\n",
    "                return None\n",
    "            \n",
    "            dept, number, title, credits = match.groups()\n",
    "\n",
    "            #Description Extraction\n",
    "            desc_elem = course_block.find('div', class_='searchresult_desc')\n",
    "            description = desc_elem.get_text(strip=True) if desc_elem else \"\"\n",
    "\n",
    "            if len(description) < CONFIG['min_description_length']:\n",
    "                return None\n",
    "            \n",
    "            #Prereq Extraction\n",
    "            prereq_pattern = r'Prerequisites[s]?:?\\s*(.+?)(?:\\.|Corequisite|$)'\n",
    "            prereq_match = re.search(prereq_pattern, description, re.IGNORECASE)\n",
    "            prerequisites = prereq_match.group(1).strip() if prereq_match else \"\"\n",
    "\n",
    "            return {\n",
    "                'university':'Purdue',\n",
    "                'department': dept,\n",
    "                'course_number': number,\n",
    "                'course_code': f\"{dept} {number}\",\n",
    "                'title': title.strip(),\n",
    "                'credits': float(credits),\n",
    "                'description': description,\n",
    "                'prerequisites': prerequisites,\n",
    "                'level': int(number[0]) if number.isdigit() else 0,\n",
    "                'url': course_block.find('a')['href'] if course_block.find('a') else \"\"\n",
    "            }\n",
    "        \n",
    "        except Exception as e:\n",
    "            return None\n"
   ]
  }
 ],
 "metadata": {
  "kernelspec": {
   "display_name": "Python 3",
   "language": "python",
   "name": "python3"
  },
  "language_info": {
   "codemirror_mode": {
    "name": "ipython",
    "version": 3
   },
   "file_extension": ".py",
   "mimetype": "text/x-python",
   "name": "python",
   "nbconvert_exporter": "python",
   "pygments_lexer": "ipython3",
   "version": "3.12.7"
  }
 },
 "nbformat": 4,
 "nbformat_minor": 2
}
